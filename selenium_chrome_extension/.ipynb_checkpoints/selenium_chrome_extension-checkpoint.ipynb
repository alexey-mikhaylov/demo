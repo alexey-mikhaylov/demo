{
 "cells": [
  {
   "cell_type": "markdown",
   "id": "06f22826-404c-4184-8400-b310469fbb93",
   "metadata": {},
   "source": [
    "### Включение расширения в браузере Selenium"
   ]
  },
  {
   "cell_type": "code",
   "execution_count": 2,
   "id": "2e4afb7d",
   "metadata": {},
   "outputs": [],
   "source": [
    "from selenium import webdriver\n",
    "from selenium.webdriver.chrome.service import Service\n",
    "import time"
   ]
  },
  {
   "cell_type": "code",
   "execution_count": 10,
   "id": "62ebec09",
   "metadata": {},
   "outputs": [],
   "source": [
    "browser_service = Service(executable_path=r\".\\chromedriver.exe\")\n",
    "browser_options = webdriver.ChromeOptions()\n",
    "\n",
    "# подключаем расширение (это занимает определённое время)\n",
    "# перед этим нужно скачать файл crx с расширением\n",
    "# это можно сделать, например, с помощью расширения Get CRX\n",
    "# см. https://chromewebstore.google.com/detail/get-crx/dijpllakibenlejkbajahncialkbdkjc\n",
    "browser_options.add_extension(r\".\\fast_proxy.crx\")\n",
    "\n",
    "browser = webdriver.Chrome(service=browser_service, options=browser_options)"
   ]
  },
  {
   "cell_type": "code",
   "execution_count": 9,
   "id": "cf0a530d",
   "metadata": {},
   "outputs": [],
   "source": [
    "# загружаем заблокированный сайт\n",
    "# расширение fast_proxy должно обойти блокировку\n",
    "browser.get(\"https://rutracker.org/\")\n",
    "time.sleep(30)\n",
    "browser.quit()"
   ]
  }
 ],
 "metadata": {
  "kernelspec": {
   "display_name": "Python 3 (ipykernel)",
   "language": "python",
   "name": "python3"
  },
  "language_info": {
   "codemirror_mode": {
    "name": "ipython",
    "version": 3
   },
   "file_extension": ".py",
   "mimetype": "text/x-python",
   "name": "python",
   "nbconvert_exporter": "python",
   "pygments_lexer": "ipython3",
   "version": "3.8.10"
  }
 },
 "nbformat": 4,
 "nbformat_minor": 5
}
