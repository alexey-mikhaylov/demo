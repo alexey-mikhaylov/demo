{
 "cells": [
  {
   "cell_type": "code",
   "execution_count": 3,
   "id": "cae759e7-328e-42d1-a90b-6a59c6e3a5cd",
   "metadata": {},
   "outputs": [],
   "source": [
    "import pandas as pd\n",
    "from sys import path\n",
    "path.append(r\".\")\n",
    "from pyadomd import Pyadomd"
   ]
  },
  {
   "cell_type": "code",
   "execution_count": null,
   "id": "bf0414aa-9d69-4eca-b86e-9559f097f899",
   "metadata": {},
   "outputs": [],
   "source": [
    "# скачать и почитать подробнее о необходимых библиотеках можно здесь:\n",
    "# https://learn.microsoft.com/en-us/analysis-services/client-libraries?view=asallproducts-allversions\n",
    "# про pyadomd см. https://www.antmanbi.com/post/using-python-to-execute-dax-queries-in-power-bi-ssas-tabular-part-1\n",
    "dax_query = \"USER_DAX_CODE\"\n",
    "provider = \"MSOLAP\"\n",
    "workspace = \"USER_WORKSPACE\"\n",
    "pbi_login = \"USER_LOGIN\"\n",
    "pbi_password = \"USER_PASSWORD\"\n",
    "DATASET = \"USER_MODEL\"\n",
    "# облачный вариант\n",
    "connection_string = f\"Provider={provider};Data Source=powerbi://api.powerbi.com/v1.0/myorg/{workspace};User ID={pbi_login};Password={pbi_password};Initial Catalog={dataset}\"\n",
    "# серверный вариант\n",
    "server_address = \"USER_SERVER\"\n",
    "connection_string = f\"Provider={provider};Data Source={server_address};User ID={pbi_login};Password={pbi_password};Initial Catalog={dataset}\"\n",
    "with Pyadomd(connection_string) as conn:\n",
    "    with conn.cursor().execute(dax_query) as cur:\n",
    "        df = pd.DataFrame(cur.fetchone(), columns=[x.name for x in cur.description])\n",
    "        cur.close()\n",
    "    conn.close()\n",
    "df.head()"
   ]
  }
 ],
 "metadata": {
  "kernelspec": {
   "display_name": "Python 3 (ipykernel)",
   "language": "python",
   "name": "python3"
  },
  "language_info": {
   "codemirror_mode": {
    "name": "ipython",
    "version": 3
   },
   "file_extension": ".py",
   "mimetype": "text/x-python",
   "name": "python",
   "nbconvert_exporter": "python",
   "pygments_lexer": "ipython3",
   "version": "3.8.10"
  }
 },
 "nbformat": 4,
 "nbformat_minor": 5
}
